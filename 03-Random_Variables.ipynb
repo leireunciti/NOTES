{
 "cells": [
  {
   "cell_type": "markdown",
   "id": "b8764431",
   "metadata": {
    "deletable": false
   },
   "source": [
    "# [Introduction to Data Science](http://datascience-intro.github.io/1MS041-2024/)    \n",
    "## 1MS041, 2024 \n",
    "&copy;2024 Raazesh Sainudiin, Benny Avelin. [Attribution 4.0 International     (CC BY 4.0)](https://creativecommons.org/licenses/by/4.0/)"
   ]
  },
  {
   "cell_type": "markdown",
   "id": "f640a563",
   "metadata": {},
   "source": [
    "## Second notebook on Random variables\n",
    "\n",
    "Lets take a look again at the spam dataset and look at our concepts there"
   ]
  },
  {
   "cell_type": "code",
   "execution_count": 1,
   "id": "46083ad3",
   "metadata": {},
   "outputs": [
    {
     "data": {
      "text/plain": [
       "[('Go until jurong point, crazy.. Available only in bugis n great world la e buffet... Cine there got amore wat...',\n",
       "  0),\n",
       " ('Ok lar... Joking wif u oni...', 0)]"
      ]
     },
     "execution_count": 1,
     "metadata": {},
     "output_type": "execute_result"
    }
   ],
   "source": [
    "from Utils import load_sms\n",
    "sms_data = load_sms()\n",
    "sms_data[:2]"
   ]
  },
  {
   "cell_type": "markdown",
   "id": "bb119585",
   "metadata": {},
   "source": [
    "Let X represents each SMS text (an entry in the list), and let $Y$ represent whether text is spam or not i.e. $Y \\in \\{0,1\\}$. Thus $\\mathbb{P}(Y = 1)$ is the probability that we get a spam. The goal is to estimate:\n",
    "$$\n",
    "    \\mathbb{P}(Y = 1 | \\text{\"free\" or \"prize\" is in } X) \\enspace .\n",
    "$$\n",
    "That is, the probability that the SMS is spam given that \"free\" or \"prize\" occurs in the SMS. \n",
    "Hint: it is good to remove the upper/lower case of words so that we can also find \"Free\" and \"Prize\"; this can be done with `text.lower()` if `text` a string.\n",
    "\n",
    "To do this we can create a new random variable $Z$ which is $1$ if \"free\" or \"prize\" appears in $X$."
   ]
  },
  {
   "cell_type": "code",
   "execution_count": 3,
   "id": "074bd546",
   "metadata": {},
   "outputs": [],
   "source": [
    "interesting_words=set(['free','prize'])\n",
    "TF10 = {True: 1, False: 0}\n",
    "\n",
    "# read from right to left: split each line in sms_data, and covert the first word to lower case. Next, you want to find an intersection \n",
    "# with the set 'interesting_words', i.e. does the first word contain the word 'free' or 'prize'. So the output is a set of 0s and 1s\n",
    "Z_obs = [TF10[not interesting_words.isdisjoint([word.lower() for word in line[0].split(' ')])] for line in sms_data]"
   ]
  },
  {
   "cell_type": "code",
   "execution_count": 4,
   "id": "2d83f9a2",
   "metadata": {},
   "outputs": [
    {
     "data": {
      "text/plain": [
       "[0, 0, 1, 0, 0, 0, 0, 0, 1, 1]"
      ]
     },
     "execution_count": 4,
     "metadata": {},
     "output_type": "execute_result"
    }
   ],
   "source": [
    "Z_obs[:10]"
   ]
  },
  {
   "cell_type": "code",
   "execution_count": 5,
   "id": "3bb642e5",
   "metadata": {},
   "outputs": [
    {
     "data": {
      "text/plain": [
       "[0, 0, 1, 0, 0, 1, 0, 0, 1, 1]"
      ]
     },
     "execution_count": 5,
     "metadata": {},
     "output_type": "execute_result"
    }
   ],
   "source": [
    "Y_obs = [y for x,y in sms_data]\n",
    "Y_obs[:10]"
   ]
  },
  {
   "cell_type": "code",
   "execution_count": 6,
   "id": "40e64960",
   "metadata": {},
   "outputs": [],
   "source": [
    "import numpy as np\n",
    "def F_X_12(x):\n",
    "    TF10 = {True: 1, False: 0}\n",
    "    return np.mean([TF10[(y <= x[0]) and (z <= x[1])] for y,z in zip (Y_obs,Z_obs)])\n",
    "\n",
    "\n",
    "# z can be at most 1 anyway, so what you are finding above is the marginal distribution of Y"
   ]
  },
  {
   "cell_type": "code",
   "execution_count": 10,
   "id": "e6f92c71",
   "metadata": {},
   "outputs": [
    {
     "data": {
      "text/plain": [
       "0.9551328068916008"
      ]
     },
     "execution_count": 10,
     "metadata": {},
     "output_type": "execute_result"
    }
   ],
   "source": [
    "F_X_12([1,0])"
   ]
  },
  {
   "cell_type": "markdown",
   "id": "408ae961",
   "metadata": {},
   "source": [
    "This is the JDF for this problem"
   ]
  },
  {
   "cell_type": "code",
   "execution_count": 14,
   "id": "b856ee1e",
   "metadata": {},
   "outputs": [
    {
     "name": "stdout",
     "output_type": "stream",
     "text": [
      "\tz <= 0 \t\tz <= 1\n",
      "y <= 0 \t0.86\t\t0.87\t\t\n",
      "\n",
      "y <= 1 \t0.96\t\t1.00\t\t\n",
      "\n"
     ]
    }
   ],
   "source": [
    "print(\"\\tz <= 0 \\t\\tz <= 1\")\n",
    "for x1 in range(0,2):\n",
    "    print(\"y <= %d \\t\" % x1,end='')\n",
    "    for x2 in range(0,2):\n",
    "        print(\"%.2f\" % (F_X_12((x1,x2))),end='\\t\\t')\n",
    "    print('\\n')"
   ]
  },
  {
   "cell_type": "code",
   "execution_count": null,
   "id": "2f9f28e4",
   "metadata": {},
   "outputs": [],
   "source": [
    "F_X_12((1,0))"
   ]
  },
  {
   "cell_type": "code",
   "execution_count": 15,
   "id": "0992b566",
   "metadata": {},
   "outputs": [
    {
     "data": {
      "text/plain": [
       "False"
      ]
     },
     "execution_count": 15,
     "metadata": {},
     "output_type": "execute_result"
    }
   ],
   "source": [
    "F_X_12((0,0)) == F_X_12((0,1))*F_X_12((1,0))"
   ]
  },
  {
   "cell_type": "code",
   "execution_count": 16,
   "id": "236c531b",
   "metadata": {},
   "outputs": [
    {
     "data": {
      "text/plain": [
       "0.8270846721557743"
      ]
     },
     "execution_count": 16,
     "metadata": {},
     "output_type": "execute_result"
    }
   ],
   "source": [
    "F_X_12((0,1))*F_X_12((1,0))"
   ]
  },
  {
   "cell_type": "code",
   "execution_count": null,
   "id": "d6246c1e",
   "metadata": {},
   "outputs": [],
   "source": [
    "# Are they indepdentent? If so, then the JDF is just the product of the \n",
    "# DFs for Y and Z, but\n",
    "0.865936826992103*0.955132806891601"
   ]
  },
  {
   "cell_type": "markdown",
   "id": "d942a608",
   "metadata": {},
   "source": [
    "Which is not 0.858, so they are not independent. So lets try to estimate the probability that $Y=1$ given that $Z = 1$. Lets again do that by filtering"
   ]
  },
  {
   "cell_type": "code",
   "execution_count": null,
   "id": "98afc79d",
   "metadata": {},
   "outputs": [],
   "source": [
    "np.mean([y for z,y in zip(Z_obs,Y_obs) if z == 1])"
   ]
  },
  {
   "cell_type": "markdown",
   "id": "79731699",
   "metadata": {},
   "source": [
    "Compare that with the marginal probability of $Y = 1$, which is according to our JDF 1-0.866 = 0.134"
   ]
  },
  {
   "cell_type": "code",
   "execution_count": null,
   "id": "7fb6c482",
   "metadata": {},
   "outputs": [],
   "source": [
    "# Or we can just compute it directly\n",
    "np.mean(Y_obs)"
   ]
  },
  {
   "cell_type": "markdown",
   "id": "1b5364a7",
   "metadata": {},
   "source": [
    "What we see from this is that knowing that the words \"free\" or \"prize\" appeared in the sms text, we are much more certain that it is a spam. We also see that looking directly at the JDF this can be hard to see, although it is equivalent."
   ]
  },
  {
   "cell_type": "code",
   "execution_count": 17,
   "id": "db2e426e",
   "metadata": {},
   "outputs": [],
   "source": [
    "x = np.random.normal(size=100)"
   ]
  },
  {
   "cell_type": "code",
   "execution_count": 18,
   "id": "fd306dd2",
   "metadata": {},
   "outputs": [
    {
     "data": {
      "text/plain": [
       "-0.08265975892373005"
      ]
     },
     "execution_count": 18,
     "metadata": {},
     "output_type": "execute_result"
    }
   ],
   "source": [
    "np.mean(x)"
   ]
  },
  {
   "cell_type": "code",
   "execution_count": 19,
   "id": "72f9425b",
   "metadata": {},
   "outputs": [],
   "source": [
    "g = lambda x: x**2"
   ]
  },
  {
   "cell_type": "code",
   "execution_count": 23,
   "id": "7433a956",
   "metadata": {},
   "outputs": [
    {
     "data": {
      "text/plain": [
       "3.588674726116084"
      ]
     },
     "execution_count": 23,
     "metadata": {},
     "output_type": "execute_result"
    }
   ],
   "source": [
    "mean = np.mean(x)\n",
    "y = x-mean\n",
    "np.mean(y**4)"
   ]
  },
  {
   "cell_type": "markdown",
   "id": "ceaafcd9-6b12-4efb-981c-f0444ccb6931",
   "metadata": {},
   "source": [
    "# Notes from 12/09/2024 Lecture\n",
    "\n",
    "The steps below are usually what we do to explore data\n",
    "- when you read a file, look at the data types (is it integer? need to convert to a string?)\n",
    "- explore the distributions of the data\n",
    "- calculate mean?\n",
    "- relationships between different variables?"
   ]
  },
  {
   "cell_type": "code",
   "execution_count": 1,
   "id": "c6af12a9-9d9c-4f8c-a25c-8922b15b0d87",
   "metadata": {},
   "outputs": [
    {
     "name": "stdout",
     "output_type": "stream",
     "text": [
      "CORIS.csv\t     earthquakes_small.csv  portland.csv\n",
      "NYPowerBall.csv      final.csv\t\t    pride_and_prejudice.txt\n",
      "auto.csv\t     final.csv.zip\t    rainfallInChristchurch.csv\n",
      "co2_mm_mlo.txt\t     final.tgz\t\t    ratings.csv\n",
      "digits.csv\t     flights.csv\t    spam.csv\n",
      "earthquakes.csv      indoor_train.csv\t    visits_clean.csv\n",
      "earthquakes.csv.zip  leukemia.csv\n",
      "earthquakes.tgz      mammography.mat\n"
     ]
    }
   ],
   "source": [
    "!ls data/ #'!' allows us to use bash commands"
   ]
  },
  {
   "cell_type": "code",
   "execution_count": 2,
   "id": "774bb8ba-6325-45bb-a8d2-41e1480d80a6",
   "metadata": {},
   "outputs": [
    {
     "name": "stdout",
     "output_type": "stream",
     "text": [
      "row.names,sbp,tobacco,ldl,adiposity,famhist,typea,obesity,alcohol,age,chd\n",
      "last column is chd = Coronary heart Disease = Y\n",
      "all other columns are potential predictors of Y\n",
      "\n",
      "1,160,12.00, 5.73,23.11,1,49,25.30, 97.20,52,1\n"
     ]
    }
   ],
   "source": [
    "# exploring the dataset. Best to look at the data file directly before you start to code\n",
    "!head -n 5 data/CORIS.csv"
   ]
  },
  {
   "cell_type": "code",
   "execution_count": 10,
   "id": "6772c383-d075-4a40-804e-44affe51179a",
   "metadata": {},
   "outputs": [],
   "source": [
    "import csv\n",
    "with open('data/CORIS.csv', mode = 'r') as f: # standard way to open and read file\n",
    "    reader = csv.reader(f)\n",
    "    header = next(reader) # only reads first line\n",
    "\n",
    "    #now we want to only read 3 lines\n",
    "    for i in range(3):\n",
    "        next(reader)\n",
    "    data = [[float(x) for x in line] for line in reader] # every lines become a float"
   ]
  },
  {
   "cell_type": "code",
   "execution_count": 13,
   "id": "4f6a5f1d-d979-45cc-b133-ead4f9e7037b",
   "metadata": {},
   "outputs": [],
   "source": [
    "import numpy as np\n",
    "data_array = np.array(data)"
   ]
  },
  {
   "cell_type": "code",
   "execution_count": 25,
   "id": "899d8421-dfba-4825-9098-d3b5beba212b",
   "metadata": {},
   "outputs": [],
   "source": [
    "Z = data_array[:, [1,6]]"
   ]
  },
  {
   "cell_type": "code",
   "execution_count": 16,
   "id": "02d82ee9-6609-44e8-89e3-511b4857425c",
   "metadata": {},
   "outputs": [
    {
     "data": {
      "image/png": "[encoded data removed]",
      "text/plain": [
       "<Figure size 640x480 with 1 Axes>"
      ]
     },
     "metadata": {},
     "output_type": "display_data"
    }
   ],
   "source": [
    "# construct marginals\n",
    "\n",
    "X = Z[:,0]\n",
    "from Utils import discrete_histogram\n",
    "discrete_histogram(X)"
   ]
  },
  {
   "cell_type": "code",
   "execution_count": 17,
   "id": "655836f4-950a-48e2-817b-21f8424ab37e",
   "metadata": {},
   "outputs": [
    {
     "data": {
      "image/png": "[encoded data removed]",
      "text/plain": [
       "<Figure size 640x480 with 1 Axes>"
      ]
     },
     "metadata": {},
     "output_type": "display_data"
    }
   ],
   "source": [
    "# We do for X\n",
    "from Utils import makeEDF, plotEDF\n",
    "f_X = makeEDF(X)\n",
    "plotEDF(f_X)\n",
    "\n",
    "#the EDF below converges faster than density"
   ]
  },
  {
   "cell_type": "code",
   "execution_count": 20,
   "id": "1cccf1ba-e609-4ec2-b4dd-8da50fc13861",
   "metadata": {},
   "outputs": [
    {
     "data": {
      "image/png": "[encoded data removed]",
      "text/plain": [
       "<Figure size 640x480 with 1 Axes>"
      ]
     },
     "metadata": {},
     "output_type": "display_data"
    }
   ],
   "source": [
    "# We do for Y\n",
    "from Utils import makeEDF, plotEDF\n",
    "Y = Z[:,1]\n",
    "f_Y = makeEDF(Y)\n",
    "plotEDF(f_Y)"
   ]
  },
  {
   "cell_type": "code",
   "execution_count": 22,
   "id": "743a3502-7c09-4d34-89be-52f434a9043a",
   "metadata": {},
   "outputs": [
    {
     "data": {
      "image/png": "[encoded data removed]",
      "text/plain": [
       "<Figure size 640x480 with 1 Axes>"
      ]
     },
     "metadata": {},
     "output_type": "display_data"
    }
   ],
   "source": [
    "import matplotlib.pyplot as plt\n",
    "_ = plt.hist2d(Z[:,0], Z[:,1], bins = 20)"
   ]
  },
  {
   "cell_type": "markdown",
   "id": "447a01e5-f336-4cac-b8bd-16291a3c160f",
   "metadata": {},
   "source": [
    "# Conditional Distribution"
   ]
  },
  {
   "cell_type": "code",
   "execution_count": 26,
   "id": "63402d2c-b0a0-488b-be12-dfd3ef4a590d",
   "metadata": {},
   "outputs": [],
   "source": [
    "X = Z[:,0]\n",
    "Y = Z[:,1]\n",
    "\n",
    "# what is the distribution of X given that Y = 55\n",
    "X_given_Y_55 = X[Y == 55.0]\n",
    "\n",
    "# probably better to use regression instead of checking what happens to x at every y"
   ]
  },
  {
   "cell_type": "code",
   "execution_count": 28,
   "id": "4c9b39e0-71ac-40f6-8fd5-6bbc8aa59a13",
   "metadata": {},
   "outputs": [
    {
     "data": {
      "image/png": "[encoded data removed]",
      "text/plain": [
       "<Figure size 640x480 with 1 Axes>"
      ]
     },
     "metadata": {},
     "output_type": "display_data"
    }
   ],
   "source": [
    "plotEDF(makeEDF(X_given_Y_55))"
   ]
  },
  {
   "cell_type": "markdown",
   "id": "dda0f3d6-bbc6-45b3-963f-53f322f3e48d",
   "metadata": {},
   "source": [
    "## A little introduction to Regression"
   ]
  },
  {
   "cell_type": "code",
   "execution_count": 35,
   "id": "a36b2d2e-1aed-439e-8769-a278c27da7a0",
   "metadata": {},
   "outputs": [
    {
     "data": {
      "text/plain": [
       "<matplotlib.collections.PathCollection at 0x7f8ef1461ee0>"
      ]
     },
     "execution_count": 35,
     "metadata": {},
     "output_type": "execute_result"
    },
    {
     "data": {
      "image/png": "[encoded data removed]",
      "text/plain": [
       "<Figure size 640x480 with 1 Axes>"
      ]
     },
     "metadata": {},
     "output_type": "display_data"
    }
   ],
   "source": [
    "X = np.random.uniform(size=1000)\n",
    "Y = 2*X + np.random.normal(size =1000) + 0.1\n",
    "plt.scatter(X,Y)\n",
    "\n",
    "# in regression, we want Expectation[Y | X = x] = r(x), where r is the regression function"
   ]
  },
  {
   "cell_type": "markdown",
   "id": "c2ca6946",
   "metadata": {},
   "source": [
    "## Moments etc"
   ]
  },
  {
   "cell_type": "code",
   "execution_count": null,
   "id": "9cd452b7",
   "metadata": {},
   "outputs": [],
   "source": [
    "import numpy as np\n",
    "x = np.random.normal(size=100)"
   ]
  },
  {
   "cell_type": "code",
   "execution_count": null,
   "id": "58e096b6",
   "metadata": {
    "scrolled": true
   },
   "outputs": [],
   "source": [
    "x"
   ]
  },
  {
   "cell_type": "markdown",
   "id": "e49b695b",
   "metadata": {},
   "source": [
    "## Sample mean"
   ]
  },
  {
   "cell_type": "code",
   "execution_count": null,
   "id": "efaff7e7",
   "metadata": {},
   "outputs": [],
   "source": [
    "np.mean(x)"
   ]
  },
  {
   "cell_type": "markdown",
   "id": "275037fd",
   "metadata": {},
   "source": [
    "## Sample variance"
   ]
  },
  {
   "cell_type": "code",
   "execution_count": null,
   "id": "d24101b3",
   "metadata": {},
   "outputs": [],
   "source": [
    "np.var(x)"
   ]
  },
  {
   "cell_type": "markdown",
   "id": "424d638f",
   "metadata": {},
   "source": [
    "Or by doing it yourself"
   ]
  },
  {
   "cell_type": "code",
   "execution_count": null,
   "id": "f20cee48",
   "metadata": {},
   "outputs": [],
   "source": [
    "mu = np.mean(x)\n",
    "np.mean(np.power(x-mu,2))"
   ]
  },
  {
   "cell_type": "markdown",
   "id": "1bf37cf3",
   "metadata": {},
   "source": [
    "Higher moments, we can use `scipy`"
   ]
  },
  {
   "cell_type": "code",
   "execution_count": null,
   "id": "6913e441",
   "metadata": {},
   "outputs": [],
   "source": [
    "from scipy.stats import skew, kurtosis"
   ]
  },
  {
   "cell_type": "code",
   "execution_count": null,
   "id": "42e817e1",
   "metadata": {},
   "outputs": [],
   "source": [
    "skew(x)"
   ]
  },
  {
   "cell_type": "code",
   "execution_count": null,
   "id": "d019a424",
   "metadata": {},
   "outputs": [],
   "source": [
    "kurtosis(x,fisher=False)"
   ]
  },
  {
   "cell_type": "markdown",
   "id": "ed49b580",
   "metadata": {},
   "source": [
    "## Moments and tail behavior"
   ]
  },
  {
   "cell_type": "code",
   "execution_count": 25,
   "id": "1f1515c8",
   "metadata": {},
   "outputs": [],
   "source": [
    "def standardize(data):\n",
    "    mean = np.mean(data)\n",
    "    std = np.sqrt(np.var(data))\n",
    "    return (data-mean)/std"
   ]
  },
  {
   "cell_type": "code",
   "execution_count": 26,
   "id": "792c4384",
   "metadata": {},
   "outputs": [
    {
     "data": {
      "text/plain": [
       "(-3.0, 5.0)"
      ]
     },
     "execution_count": 26,
     "metadata": {},
     "output_type": "execute_result"
    },
    {
     "data": {
      "image/png": "[encoded data removed]",
      "text/plain": [
       "<Figure size 640x480 with 1 Axes>"
      ]
     },
     "metadata": {},
     "output_type": "display_data"
    }
   ],
   "source": [
    "import numpy as np\n",
    "chi2 = np.random.chisquare(4,size=10000)\n",
    "normal = np.random.normal(size=10000)\n",
    "import matplotlib.pyplot as plt\n",
    "_=plt.hist(standardize(chi2),bins=50,alpha=0.5)\n",
    "_=plt.hist(standardize(normal),bins=50,alpha=0.5)\n",
    "plt.xlim(-3,5)"
   ]
  },
  {
   "cell_type": "code",
   "execution_count": 27,
   "id": "3897c76d",
   "metadata": {},
   "outputs": [],
   "source": [
    "from scipy.stats import skew, kurtosis\n",
    "def print_basic_stats(data):\n",
    "    print(\"mean: %.2f\\tstd: %.2f\\tskew: %.2f\\tkurtosis: %.2f\" % (np.mean(data),np.std(data),skew(data),kurtosis(data,fisher=False)))"
   ]
  },
  {
   "cell_type": "code",
   "execution_count": 29,
   "id": "bab37398",
   "metadata": {},
   "outputs": [
    {
     "name": "stdout",
     "output_type": "stream",
     "text": [
      "mean: -0.00\tstd: 1.00\tskew: -0.01\tkurtosis: 2.97\n"
     ]
    }
   ],
   "source": [
    "print_basic_stats(standardize(normal))"
   ]
  },
  {
   "cell_type": "code",
   "execution_count": 30,
   "id": "774c2d5f",
   "metadata": {},
   "outputs": [
    {
     "name": "stdout",
     "output_type": "stream",
     "text": [
      "mean: 0.00\tstd: 1.00\tskew: 1.40\tkurtosis: 5.86\n"
     ]
    }
   ],
   "source": [
    "print_basic_stats(standardize(chi2))"
   ]
  },
  {
   "cell_type": "code",
   "execution_count": null,
   "id": "3769ed2a",
   "metadata": {},
   "outputs": [],
   "source": [
    "print_basic_stats(standardize(np.sqrt(chi2)))"
   ]
  },
  {
   "cell_type": "code",
   "execution_count": null,
   "id": "0af5719c",
   "metadata": {},
   "outputs": [],
   "source": [
    "np.mean(np.power(standardize(chi2),3)) # Skewness"
   ]
  },
  {
   "cell_type": "code",
   "execution_count": null,
   "id": "20dada6f",
   "metadata": {},
   "outputs": [],
   "source": [
    "np.mean(np.power(standardize(chi2),4)) # kurtosis"
   ]
  },
  {
   "cell_type": "markdown",
   "id": "1dd18e1b",
   "metadata": {},
   "source": [
    "## Transformations of random variables"
   ]
  },
  {
   "cell_type": "markdown",
   "id": "a315070b",
   "metadata": {},
   "source": [
    "Consider a Binomial random variable"
   ]
  },
  {
   "cell_type": "code",
   "execution_count": null,
   "id": "294c145e",
   "metadata": {},
   "outputs": [],
   "source": [
    "n = 10\n",
    "p = 0.5\n",
    "x = np.random.binomial(n,p,size=1000)"
   ]
  },
  {
   "cell_type": "markdown",
   "id": "83ba1a31",
   "metadata": {},
   "source": [
    "Lets plot the empirical density"
   ]
  },
  {
   "cell_type": "code",
   "execution_count": null,
   "id": "cdc0d7a4",
   "metadata": {},
   "outputs": [],
   "source": [
    "from Utils import makeEMF,makeEDF,plotEDF,plotEMF\n",
    "plotEMF(makeEMF(x))"
   ]
  },
  {
   "cell_type": "markdown",
   "id": "8a28162a",
   "metadata": {},
   "source": [
    "If we had the function $g(x) = \\sin(x/3)$"
   ]
  },
  {
   "cell_type": "code",
   "execution_count": null,
   "id": "dfcc9af5",
   "metadata": {},
   "outputs": [],
   "source": [
    "plotEMF(makeEMF(np.sin(x)))"
   ]
  },
  {
   "cell_type": "code",
   "execution_count": null,
   "id": "4167118f",
   "metadata": {},
   "outputs": [],
   "source": [
    "plotEDF(makeEDF(np.sin(x)))"
   ]
  },
  {
   "cell_type": "markdown",
   "id": "6b0c8b89",
   "metadata": {},
   "source": [
    "Can we compute this thing?\n",
    "What is $\\sin^{[-1]}$?\n",
    "\n",
    "Since $X$ is discrete, we can check what $\\mathbb{Y}$ is, since $\\mathbb{X}=\\{0,1,\\ldots,10\\}$."
   ]
  },
  {
   "cell_type": "code",
   "execution_count": null,
   "id": "829f7a59",
   "metadata": {},
   "outputs": [],
   "source": [
    "Y_space = np.sort(np.sin(np.arange(0,11)))\n",
    "sin_inv = dict(zip(np.sin(np.arange(0,11)),np.arange(0,11)))"
   ]
  },
  {
   "cell_type": "code",
   "execution_count": null,
   "id": "e4b83adf",
   "metadata": {},
   "outputs": [],
   "source": [
    "from scipy.special import binom as binomial\n",
    "plotEMF([(y,binomial(n,sin_inv[y])*(p**sin_inv[y])*((1-p)**(n-sin_inv[y]))) for y in Y_space])"
   ]
  },
  {
   "cell_type": "code",
   "execution_count": null,
   "id": "4f068457",
   "metadata": {},
   "outputs": [],
   "source": [
    "plotEDF(emfToEdf([(y,binomial(n,sin_inv[y])*(p**sin_inv[y])*((1-p)**(n-sin_inv[y]))) for y in Y_space]))"
   ]
  }
 ],
 "metadata": {
  "kernelspec": {
   "display_name": "Python 3 (ipykernel)",
   "language": "python",
   "name": "python3"
  },
  "language_info": {
   "codemirror_mode": {
    "name": "ipython",
    "version": 3
   },
   "file_extension": ".py",
   "mimetype": "text/x-python",
   "name": "python",
   "nbconvert_exporter": "python",
   "pygments_lexer": "ipython3",
   "version": "3.12.4"
  },
  "lx_course_instance": "2024",
  "lx_course_name": "Introduction to Data Science",
  "lx_course_number": "1MS041"
 },
 "nbformat": 4,
 "nbformat_minor": 5
}
